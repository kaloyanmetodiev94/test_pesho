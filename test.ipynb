{
  "nbformat": 4,
  "nbformat_minor": 0,
  "metadata": {
    "colab": {
      "name": "test.ipynb",
      "provenance": [],
      "collapsed_sections": []
    },
    "kernelspec": {
      "name": "python3",
      "display_name": "Python 3"
    }
  },
  "cells": [
    {
      "cell_type": "code",
      "metadata": {
        "id": "_V-WHExe7Gy6",
        "colab_type": "code",
        "colab": {}
      },
      "source": [
        "!jupyter-nbextension enable nglview --py --sys-prefix"
      ],
      "execution_count": null,
      "outputs": []
    },
    {
      "cell_type": "code",
      "metadata": {
        "id": "AlNPpneRWV8D",
        "colab_type": "code",
        "colab": {}
      },
      "source": [
        "import nglview\n",
        "nglview.show_pdbid(\"3pqr\")"
      ],
      "execution_count": null,
      "outputs": []
    }
  ]
}